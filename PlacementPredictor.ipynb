{
 "cells": [
  {
   "cell_type": "code",
   "execution_count": 2,
   "id": "b92a3a71-8d71-4ca5-8cad-2677e8d105f3",
   "metadata": {},
   "outputs": [
    {
     "name": "stdout",
     "output_type": "stream",
     "text": [
      "Accuracy: 100.00%\n",
      "Classification Report:\n",
      "              precision    recall  f1-score   support\n",
      "\n",
      "           0       1.00      1.00      1.00         2\n",
      "\n",
      "    accuracy                           1.00         2\n",
      "   macro avg       1.00      1.00      1.00         2\n",
      "weighted avg       1.00      1.00      1.00         2\n",
      "\n"
     ]
    },
    {
     "name": "stdin",
     "output_type": "stream",
     "text": [
      "Enter Class 10 percentage:  23\n",
      "Enter Class 12 percentage:  11\n",
      "Enter College CGPA for Year 1:  2.4\n",
      "Enter College CGPA for Year 2:  4.5\n",
      "Enter College CGPA for Year 3:  3.2\n",
      "Enter Number of Internships:  0\n",
      "Enter Gender (Male/Female):  male\n",
      "Enter Number of Backlogs:  2\n",
      "Enter Number of Certification Courses:  0\n",
      "Enter Branch (CSE/ECE/IT/AIDS):  CSE\n"
     ]
    },
    {
     "name": "stdout",
     "output_type": "stream",
     "text": [
      "The student has a 17.00% chance of being placed.\n"
     ]
    },
    {
     "name": "stderr",
     "output_type": "stream",
     "text": [
      "C:\\Users\\Tushar Raj\\AppData\\Local\\Programs\\Python\\Python312\\Lib\\site-packages\\sklearn\\base.py:493: UserWarning: X does not have valid feature names, but RandomForestClassifier was fitted with feature names\n",
      "  warnings.warn(\n"
     ]
    }
   ],
   "source": [
    "import pandas as pd\n",
    "from sklearn.model_selection import train_test_split\n",
    "from sklearn.ensemble import RandomForestClassifier\n",
    "from sklearn.metrics import accuracy_score, classification_report\n",
    "\n",
    "# Sample data generation (You should replace this with your actual dataset)\n",
    "data = {\n",
    "    'class_10_percentage': [85, 78, 92, 65, 74, 88, 90, 55, 79, 94],\n",
    "    'class_12_percentage': [82, 75, 89, 68, 72, 85, 87, 58, 76, 90],\n",
    "    'college_cgpa_year1': [8.4, 7.6, 9.1, 6.4, 7.3, 8.7, 8.9, 5.3, 7.8, 9.3],\n",
    "    'college_cgpa_year2': [8.5, 7.7, 9.2, 6.5, 7.4, 8.8, 9.0, 5.4, 7.9, 9.4],\n",
    "    'college_cgpa_year3': [8.6, 7.8, 9.3, 6.6, 7.5, 8.9, 9.1, 5.5, 8.0, 9.5],\n",
    "    'number_of_internships': [2, 1, 3, 0, 1, 2, 3, 0, 1, 3],\n",
    "    'gender': ['Male', 'Female', 'Male', 'Female', 'Female', 'Male', 'Male', 'Female', 'Male', 'Female'],\n",
    "    'number_of_backlogs': [0, 2, 0, 3, 1, 0, 0, 4, 1, 0],\n",
    "    'number_of_certifications': [2, 1, 3, 0, 1, 2, 3, 0, 1, 3],\n",
    "    'branch': ['CSE', 'ECE', 'CSE', 'IT', 'AIDS', 'CSE', 'ECE', 'IT', 'AIDS', 'CSE'],\n",
    "    'placed': [1, 0, 1, 0, 0, 1, 1, 0, 0, 1]  # 1: Placed, 0: Not Placed\n",
    "}\n",
    "\n",
    "# Create DataFrame\n",
    "df = pd.DataFrame(data)\n",
    "\n",
    "# Calculate average college CGPA\n",
    "df['college_cgpa'] = df[['college_cgpa_year1', 'college_cgpa_year2', 'college_cgpa_year3']].mean(axis=1)\n",
    "\n",
    "# Convert categorical gender and branch features to numerical\n",
    "df['gender'] = df['gender'].map({'Male': 1, 'Female': 0})\n",
    "df['branch'] = df['branch'].str.upper()  # Convert branch to uppercase for consistency\n",
    "\n",
    "df = pd.get_dummies(df, columns=['branch'])  # Convert branch to one-hot encoding\n",
    "\n",
    "# Features and target variable\n",
    "X = df[['class_10_percentage', 'class_12_percentage', 'college_cgpa', 'number_of_internships', 'gender', 'number_of_backlogs', 'number_of_certifications', 'branch_CSE', 'branch_ECE', 'branch_IT', 'branch_AIDS']]\n",
    "y = df['placed']\n",
    "\n",
    "# Split the data\n",
    "X_train, X_test, y_train, y_test = train_test_split(X, y, test_size=0.2, random_state=42)\n",
    "\n",
    "# Create and train the model\n",
    "model = RandomForestClassifier(n_estimators=100, random_state=42)\n",
    "model.fit(X_train, y_train)\n",
    "\n",
    "# Make predictions\n",
    "y_pred = model.predict(X_test)\n",
    "\n",
    "# Evaluate the model\n",
    "accuracy = accuracy_score(y_test, y_pred)\n",
    "report = classification_report(y_test, y_pred)\n",
    "\n",
    "print(f'Accuracy: {accuracy * 100:.2f}%')\n",
    "print('Classification Report:')\n",
    "print(report)\n",
    "\n",
    "# Function to predict placement probability\n",
    "def predict_placement(class_10_percentage, class_12_percentage, college_cgpa_year1, college_cgpa_year2, college_cgpa_year3, number_of_internships, gender, number_of_backlogs, number_of_certifications, branch):\n",
    "    gender = 1 if gender.lower() == 'male' else 0\n",
    "    college_cgpa = (college_cgpa_year1 + college_cgpa_year2 + college_cgpa_year3) / 3\n",
    "    branch = branch.upper()  # Convert branch input to uppercase\n",
    "    branch_columns = ['branch_CSE', 'branch_ECE', 'branch_IT', 'branch_AIDS']  # Adjust based on your branch categories\n",
    "    branch_index = branch_columns.index(f'branch_{branch}')\n",
    "    features = [[class_10_percentage, class_12_percentage, college_cgpa, number_of_internships, gender, number_of_backlogs, number_of_certifications] + [0] * len(branch_columns)]\n",
    "    features[0][6 + branch_index] = 1\n",
    "    probability = model.predict_proba(features)[0][1]\n",
    "    return probability * 100\n",
    "\n",
    "# Function to get valid user input\n",
    "def get_input(prompt, type_func, condition):\n",
    "    while True:\n",
    "        try:\n",
    "            value = type_func(input(prompt))\n",
    "            if condition(value):\n",
    "                return value\n",
    "            else:\n",
    "                print(\"Invalid input. Please try again.\")\n",
    "        except ValueError:\n",
    "            print(\"Invalid input. Please try again.\")\n",
    "\n",
    "# Get user inputs\n",
    "class_10_percentage = get_input(\"Enter Class 10 percentage: \", float, lambda x: 0 <= x <= 100)\n",
    "class_12_percentage = get_input(\"Enter Class 12 percentage: \", float, lambda x: 0 <= x <= 100)\n",
    "college_cgpa_year1 = get_input(\"Enter College CGPA for Year 1: \", float, lambda x: 0 <= x <= 10)\n",
    "college_cgpa_year2 = get_input(\"Enter College CGPA for Year 2: \", float, lambda x: 0 <= x <= 10)\n",
    "college_cgpa_year3 = get_input(\"Enter College CGPA for Year 3: \", float, lambda x: 0 <= x <= 10)\n",
    "number_of_internships = get_input(\"Enter Number of Internships: \", int, lambda x: x >= 0)\n",
    "gender = get_input(\"Enter Gender (Male/Female): \", str, lambda x: x.lower() in ['male', 'female'])\n",
    "number_of_backlogs = get_input(\"Enter Number of Backlogs: \", int, lambda x: x >= 0)\n",
    "number_of_certifications = get_input(\"Enter Number of Certification Courses: \", int, lambda x: x >= 0)\n",
    "branch = get_input(\"Enter Branch (CSE/ECE/IT/AIDS): \", str, lambda x: x.upper() in ['CSE', 'ECE', 'IT', 'AIDS'])\n",
    "\n",
    "# Predict and display result\n",
    "probability = predict_placement(class_10_percentage, class_12_percentage, college_cgpa_year1, college_cgpa_year2, college_cgpa_year3, number_of_internships, gender, number_of_backlogs, number_of_certifications, branch)\n",
    "print(f'The student has a {probability:.2f}% chance of being placed.')\n"
   ]
  },
  {
   "cell_type": "code",
   "execution_count": null,
   "id": "1230e9f8-a7e0-4d0e-b298-152627066a88",
   "metadata": {},
   "outputs": [],
   "source": []
  }
 ],
 "metadata": {
  "kernelspec": {
   "display_name": "Python 3 (ipykernel)",
   "language": "python",
   "name": "python3"
  },
  "language_info": {
   "codemirror_mode": {
    "name": "ipython",
    "version": 3
   },
   "file_extension": ".py",
   "mimetype": "text/x-python",
   "name": "python",
   "nbconvert_exporter": "python",
   "pygments_lexer": "ipython3",
   "version": "3.12.4"
  }
 },
 "nbformat": 4,
 "nbformat_minor": 5
}
